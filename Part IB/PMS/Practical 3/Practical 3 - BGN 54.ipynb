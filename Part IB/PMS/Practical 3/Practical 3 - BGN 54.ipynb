{
 "cells": [
  {
   "cell_type": "code",
   "execution_count": 3,
   "metadata": {},
   "outputs": [],
   "source": [
    "from scipy.stats import f_oneway, normaltest, levene\n",
    "import pandas as pd\n",
    "import seaborn as sns\n",
    "import numpy as np\n",
    "from IPython.display import display, HTML\n",
    "import statsmodels.formula.api as smf\n",
    "\n",
    "sns.set_theme(style=\"ticks\", palette=\"pastel\")"
   ]
  },
  {
   "cell_type": "markdown",
   "metadata": {},
   "source": [
    "# Part I - Rubisco transgene experiment"
   ]
  },
  {
   "cell_type": "markdown",
   "metadata": {},
   "source": [
    "## Sucrose"
   ]
  },
  {
   "cell_type": "code",
   "execution_count": 4,
   "metadata": {},
   "outputs": [
    {
     "data": {
      "text/html": [
       "<div>\n",
       "<style scoped>\n",
       "    .dataframe tbody tr th:only-of-type {\n",
       "        vertical-align: middle;\n",
       "    }\n",
       "\n",
       "    .dataframe tbody tr th {\n",
       "        vertical-align: top;\n",
       "    }\n",
       "\n",
       "    .dataframe thead th {\n",
       "        text-align: right;\n",
       "    }\n",
       "</style>\n",
       "<table border=\"1\" class=\"dataframe\">\n",
       "  <thead>\n",
       "    <tr style=\"text-align: right;\">\n",
       "      <th></th>\n",
       "      <th>Sucrose</th>\n",
       "      <th>treatment</th>\n",
       "    </tr>\n",
       "  </thead>\n",
       "  <tbody>\n",
       "    <tr>\n",
       "      <th>0</th>\n",
       "      <td>5.68</td>\n",
       "      <td>wt</td>\n",
       "    </tr>\n",
       "    <tr>\n",
       "      <th>1</th>\n",
       "      <td>7.10</td>\n",
       "      <td>wt</td>\n",
       "    </tr>\n",
       "    <tr>\n",
       "      <th>2</th>\n",
       "      <td>5.01</td>\n",
       "      <td>wt</td>\n",
       "    </tr>\n",
       "    <tr>\n",
       "      <th>3</th>\n",
       "      <td>3.57</td>\n",
       "      <td>wt</td>\n",
       "    </tr>\n",
       "    <tr>\n",
       "      <th>4</th>\n",
       "      <td>3.78</td>\n",
       "      <td>wt</td>\n",
       "    </tr>\n",
       "    <tr>\n",
       "      <th>5</th>\n",
       "      <td>5.63</td>\n",
       "      <td>wt</td>\n",
       "    </tr>\n",
       "    <tr>\n",
       "      <th>6</th>\n",
       "      <td>6.63</td>\n",
       "      <td>wt</td>\n",
       "    </tr>\n",
       "    <tr>\n",
       "      <th>7</th>\n",
       "      <td>3.76</td>\n",
       "      <td>wt</td>\n",
       "    </tr>\n",
       "    <tr>\n",
       "      <th>8</th>\n",
       "      <td>5.65</td>\n",
       "      <td>wt</td>\n",
       "    </tr>\n",
       "    <tr>\n",
       "      <th>9</th>\n",
       "      <td>5.63</td>\n",
       "      <td>wt</td>\n",
       "    </tr>\n",
       "    <tr>\n",
       "      <th>10</th>\n",
       "      <td>5.90</td>\n",
       "      <td>wt</td>\n",
       "    </tr>\n",
       "    <tr>\n",
       "      <th>11</th>\n",
       "      <td>1.10</td>\n",
       "      <td>mutant</td>\n",
       "    </tr>\n",
       "    <tr>\n",
       "      <th>12</th>\n",
       "      <td>2.07</td>\n",
       "      <td>mutant</td>\n",
       "    </tr>\n",
       "    <tr>\n",
       "      <th>13</th>\n",
       "      <td>1.84</td>\n",
       "      <td>mutant</td>\n",
       "    </tr>\n",
       "    <tr>\n",
       "      <th>14</th>\n",
       "      <td>3.03</td>\n",
       "      <td>mutant</td>\n",
       "    </tr>\n",
       "    <tr>\n",
       "      <th>15</th>\n",
       "      <td>3.48</td>\n",
       "      <td>mutant</td>\n",
       "    </tr>\n",
       "    <tr>\n",
       "      <th>16</th>\n",
       "      <td>1.55</td>\n",
       "      <td>mutant</td>\n",
       "    </tr>\n",
       "    <tr>\n",
       "      <th>17</th>\n",
       "      <td>3.65</td>\n",
       "      <td>mutant</td>\n",
       "    </tr>\n",
       "    <tr>\n",
       "      <th>18</th>\n",
       "      <td>2.81</td>\n",
       "      <td>mutant</td>\n",
       "    </tr>\n",
       "    <tr>\n",
       "      <th>19</th>\n",
       "      <td>2.24</td>\n",
       "      <td>mutant</td>\n",
       "    </tr>\n",
       "    <tr>\n",
       "      <th>20</th>\n",
       "      <td>2.09</td>\n",
       "      <td>mutant</td>\n",
       "    </tr>\n",
       "    <tr>\n",
       "      <th>21</th>\n",
       "      <td>3.00</td>\n",
       "      <td>mutant</td>\n",
       "    </tr>\n",
       "  </tbody>\n",
       "</table>\n",
       "</div>"
      ],
      "text/plain": [
       "    Sucrose treatment\n",
       "0      5.68        wt\n",
       "1      7.10        wt\n",
       "2      5.01        wt\n",
       "3      3.57        wt\n",
       "4      3.78        wt\n",
       "5      5.63        wt\n",
       "6      6.63        wt\n",
       "7      3.76        wt\n",
       "8      5.65        wt\n",
       "9      5.63        wt\n",
       "10     5.90        wt\n",
       "11     1.10    mutant\n",
       "12     2.07    mutant\n",
       "13     1.84    mutant\n",
       "14     3.03    mutant\n",
       "15     3.48    mutant\n",
       "16     1.55    mutant\n",
       "17     3.65    mutant\n",
       "18     2.81    mutant\n",
       "19     2.24    mutant\n",
       "20     2.09    mutant\n",
       "21     3.00    mutant"
      ]
     },
     "metadata": {},
     "output_type": "display_data"
    },
    {
     "data": {
      "text/plain": [
       "Text(0, 0.5, 'Sucrose Concentration ($\\\\mu$mol/g)')"
      ]
     },
     "execution_count": 4,
     "metadata": {},
     "output_type": "execute_result"
    },
    {
     "data": {
      "image/png": "[encoded data removed]",
      "text/plain": [
       "<Figure size 640x480 with 1 Axes>"
      ]
     },
     "metadata": {},
     "output_type": "display_data"
    }
   ],
   "source": [
    "sucrose_data = pd.read_csv(\"data/Sucrose.csv\") # read the data from the csv file\n",
    "display(sucrose_data)\n",
    "# create the boxplot\n",
    "ax = sns.boxplot(x=\"treatment\", y=\"Sucrose\", data=sucrose_data)\n",
    "ax.set_title(\"Sucrose Concentration in Arabidopsis Mutants\")\n",
    "ax.set_xlabel(\"Treatment\")\n",
    "ax.set_ylabel(\"Sucrose Concentration ($\\\\mu$mol/g)\")"
   ]
  },
  {
   "cell_type": "markdown",
   "metadata": {},
   "source": [
    "In order to do a one-way ANOVA, we should test that the data collected fits the assumptions of the test. The assumptions of a one-way ANOVA are:\n",
    "\n",
    "- The samples are independent.\n",
    "- Each sample is from a normally distributed population. This can be tested using a SciPy's `normaltest` (It is based on D’Agostino and Pearson’s test that combines skew and kurtosis to produce an omnibus test of normality https://docs.scipy.org/doc/scipy/reference/generated/scipy.stats.normaltest.html).\n",
    "- The SD of each group is the same (homogeneity of variance). This can be tested using the Levene's test.\n",
    "\n",
    "Using the `normaltest` function:"
   ]
  },
  {
   "cell_type": "code",
   "execution_count": 5,
   "metadata": {},
   "outputs": [
    {
     "name": "stdout",
     "output_type": "stream",
     "text": [
      "NormaltestResult(statistic=0.5832213517389794, pvalue=0.7470593275867403)\n",
      "NormaltestResult(statistic=0.6009762314553877, pvalue=0.7404567038950335)\n"
     ]
    },
    {
     "name": "stderr",
     "output_type": "stream",
     "text": [
      "/Users/th/.pyenv/versions/3.12.0/lib/python3.12/site-packages/scipy/stats/_stats_py.py:1806: UserWarning: kurtosistest only valid for n>=20 ... continuing anyway, n=11\n",
      "  warnings.warn(\"kurtosistest only valid for n>=20 ... continuing \"\n"
     ]
    }
   ],
   "source": [
    "# test if the distributions of each population is normally distributed\n",
    "\n",
    "print(normaltest(sucrose_data[sucrose_data[\"treatment\"] == \"wt\"][\"Sucrose\"]))\n",
    "print(normaltest(sucrose_data[sucrose_data[\"treatment\"] == \"mutant\"][\"Sucrose\"]))"
   ]
  },
  {
   "cell_type": "markdown",
   "metadata": {},
   "source": [
    "This returns a high p-value, meaning that the probability of this data being normally distributed is high.\n",
    "\n",
    "Using the Levene's test to test for homogeneity of variance:"
   ]
  },
  {
   "cell_type": "code",
   "execution_count": 6,
   "metadata": {},
   "outputs": [
    {
     "name": "stdout",
     "output_type": "stream",
     "text": [
      "LeveneResult(statistic=0.35140479282257187, pvalue=0.5599628035141764)\n"
     ]
    }
   ],
   "source": [
    "print(levene(sucrose_data[sucrose_data[\"treatment\"] == \"wt\"][\"Sucrose\"], sucrose_data[sucrose_data[\"treatment\"] == \"mutant\"][\"Sucrose\"]))"
   ]
  },
  {
   "cell_type": "markdown",
   "metadata": {},
   "source": [
    "The high p-value means that the probability of this data having the same variance is high.\n",
    "\n",
    "With these two assumptions verified we are able to do a one-way ANOVA."
   ]
  },
  {
   "cell_type": "code",
   "execution_count": 7,
   "metadata": {},
   "outputs": [
    {
     "data": {
      "text/plain": [
       "F_onewayResult(statistic=44.590599436650116, pvalue=1.6849610967522526e-06)"
      ]
     },
     "execution_count": 7,
     "metadata": {},
     "output_type": "execute_result"
    }
   ],
   "source": [
    "(sucrose_f := f_oneway(sucrose_data[sucrose_data[\"treatment\"] == \"wt\"][\"Sucrose\"], sucrose_data[sucrose_data[\"treatment\"] == \"mutant\"][\"Sucrose\"]))"
   ]
  },
  {
   "cell_type": "markdown",
   "metadata": {},
   "source": [
    "> We were able to conclude that there was a difference in sucrose concentration between the wild type treatment and mutant treatment based on a one-way ANOVA ($F_{df=2,19}= 44.59, p<0.0001$)"
   ]
  },
  {
   "cell_type": "markdown",
   "metadata": {},
   "source": [
    "## ACi"
   ]
  },
  {
   "cell_type": "code",
   "execution_count": 8,
   "metadata": {},
   "outputs": [
    {
     "data": {
      "text/html": [
       "<div>\n",
       "<style scoped>\n",
       "    .dataframe tbody tr th:only-of-type {\n",
       "        vertical-align: middle;\n",
       "    }\n",
       "\n",
       "    .dataframe tbody tr th {\n",
       "        vertical-align: top;\n",
       "    }\n",
       "\n",
       "    .dataframe thead th {\n",
       "        text-align: right;\n",
       "    }\n",
       "</style>\n",
       "<table border=\"1\" class=\"dataframe\">\n",
       "  <thead>\n",
       "    <tr style=\"text-align: right;\">\n",
       "      <th></th>\n",
       "      <th>Treatment</th>\n",
       "      <th>Ci</th>\n",
       "      <th>A</th>\n",
       "      <th>x</th>\n",
       "    </tr>\n",
       "  </thead>\n",
       "  <tbody>\n",
       "    <tr>\n",
       "      <th>0</th>\n",
       "      <td>wt</td>\n",
       "      <td>73.296105</td>\n",
       "      <td>-0.012118</td>\n",
       "      <td>0.067692</td>\n",
       "    </tr>\n",
       "    <tr>\n",
       "      <th>1</th>\n",
       "      <td>wt</td>\n",
       "      <td>116.519247</td>\n",
       "      <td>1.767882</td>\n",
       "      <td>0.137241</td>\n",
       "    </tr>\n",
       "    <tr>\n",
       "      <th>2</th>\n",
       "      <td>wt</td>\n",
       "      <td>147.280515</td>\n",
       "      <td>2.779511</td>\n",
       "      <td>0.180736</td>\n",
       "    </tr>\n",
       "    <tr>\n",
       "      <th>3</th>\n",
       "      <td>wt</td>\n",
       "      <td>184.439371</td>\n",
       "      <td>4.480535</td>\n",
       "      <td>0.227764</td>\n",
       "    </tr>\n",
       "    <tr>\n",
       "      <th>4</th>\n",
       "      <td>wt</td>\n",
       "      <td>235.531784</td>\n",
       "      <td>5.727014</td>\n",
       "      <td>0.284256</td>\n",
       "    </tr>\n",
       "    <tr>\n",
       "      <th>5</th>\n",
       "      <td>wt</td>\n",
       "      <td>286.786454</td>\n",
       "      <td>7.199071</td>\n",
       "      <td>0.333190</td>\n",
       "    </tr>\n",
       "    <tr>\n",
       "      <th>6</th>\n",
       "      <td>mutant</td>\n",
       "      <td>76.139613</td>\n",
       "      <td>-0.976707</td>\n",
       "      <td>0.072611</td>\n",
       "    </tr>\n",
       "    <tr>\n",
       "      <th>7</th>\n",
       "      <td>mutant</td>\n",
       "      <td>154.959330</td>\n",
       "      <td>-0.279311</td>\n",
       "      <td>0.190918</td>\n",
       "    </tr>\n",
       "    <tr>\n",
       "      <th>8</th>\n",
       "      <td>mutant</td>\n",
       "      <td>201.514984</td>\n",
       "      <td>-0.179819</td>\n",
       "      <td>0.247611</td>\n",
       "    </tr>\n",
       "    <tr>\n",
       "      <th>9</th>\n",
       "      <td>mutant</td>\n",
       "      <td>255.052613</td>\n",
       "      <td>0.280199</td>\n",
       "      <td>0.303716</td>\n",
       "    </tr>\n",
       "    <tr>\n",
       "      <th>10</th>\n",
       "      <td>mutant</td>\n",
       "      <td>323.141938</td>\n",
       "      <td>0.586070</td>\n",
       "      <td>0.364031</td>\n",
       "    </tr>\n",
       "    <tr>\n",
       "      <th>11</th>\n",
       "      <td>mutant</td>\n",
       "      <td>386.616168</td>\n",
       "      <td>0.997026</td>\n",
       "      <td>0.411550</td>\n",
       "    </tr>\n",
       "  </tbody>\n",
       "</table>\n",
       "</div>"
      ],
      "text/plain": [
       "   Treatment          Ci         A         x\n",
       "0         wt   73.296105 -0.012118  0.067692\n",
       "1         wt  116.519247  1.767882  0.137241\n",
       "2         wt  147.280515  2.779511  0.180736\n",
       "3         wt  184.439371  4.480535  0.227764\n",
       "4         wt  235.531784  5.727014  0.284256\n",
       "5         wt  286.786454  7.199071  0.333190\n",
       "6     mutant   76.139613 -0.976707  0.072611\n",
       "7     mutant  154.959330 -0.279311  0.190918\n",
       "8     mutant  201.514984 -0.179819  0.247611\n",
       "9     mutant  255.052613  0.280199  0.303716\n",
       "10    mutant  323.141938  0.586070  0.364031\n",
       "11    mutant  386.616168  0.997026  0.411550"
      ]
     },
     "metadata": {},
     "output_type": "display_data"
    }
   ],
   "source": [
    "aci_df = pd.read_csv(\"data/stackedACi.csv\")\n",
    "display(aci_df)"
   ]
  },
  {
   "cell_type": "code",
   "execution_count": 9,
   "metadata": {},
   "outputs": [
    {
     "data": {
      "text/plain": [
       "Text(0, 0.5, 'Photosynthetic Activity ($\\\\mu mol CO_2 m^{-2}s^{-1}$)')"
      ]
     },
     "execution_count": 9,
     "metadata": {},
     "output_type": "execute_result"
    },
    {
     "data": {
      "image/png": "[encoded data removed]",
      "text/plain": [
       "<Figure size 640x480 with 1 Axes>"
      ]
     },
     "metadata": {},
     "output_type": "display_data"
    }
   ],
   "source": [
    "ax = sns.scatterplot(data=aci_df, x=\"Ci\", y=\"A\", hue=\"Treatment\")\n",
    "ax.set_title(\"Photosynthetic Activity vs CO2 Concentration\")\n",
    "ax.set_xlabel(\"Internal CO2 Concentration ($\\\\mu bar$)\")\n",
    "ax.set_ylabel(\"Photosynthetic Activity ($\\\\mu mol CO_2 m^{-2}s^{-1}$)\")"
   ]
  },
  {
   "cell_type": "code",
   "execution_count": 10,
   "metadata": {},
   "outputs": [
    {
     "data": {
      "text/plain": [
       "Text(0, 0.5, 'Photosynthetic Activity ($\\\\mu mol CO_2 m^{-2}s^{-1}$)')"
      ]
     },
     "execution_count": 10,
     "metadata": {},
     "output_type": "execute_result"
    },
    {
     "data": {
      "image/png": "[encoded data removed]",
      "text/plain": [
       "<Figure size 640x480 with 1 Axes>"
      ]
     },
     "metadata": {},
     "output_type": "display_data"
    }
   ],
   "source": [
    "ax = sns.scatterplot(data=aci_df, x=\"x\", y=\"A\", hue=\"Treatment\")\n",
    "ax.set_title(\"Photosynthetic Activity vs  Transformed CO2 Concentration\")\n",
    "ax.set_xlabel(\"Transformed Internal CO2 Concentration\")\n",
    "ax.set_ylabel(\"Photosynthetic Activity ($\\\\mu mol CO_2 m^{-2}s^{-1}$)\")"
   ]
  },
  {
   "cell_type": "code",
   "execution_count": 11,
   "metadata": {},
   "outputs": [
    {
     "name": "stdout",
     "output_type": "stream",
     "text": [
      "LeveneResult(statistic=0.28469435872023646, pvalue=0.6052965796161142)\n"
     ]
    }
   ],
   "source": [
    "# run levene's test on the transformed data\n",
    "print(levene(aci_df[aci_df[\"Treatment\"] == \"wt\"][\"x\"], aci_df[aci_df[\"Treatment\"] == \"mutant\"][\"x\"]))"
   ]
  },
  {
   "cell_type": "markdown",
   "metadata": {},
   "source": [
    "The above shows that the levene test is not significant, meaning that the variance is the same between the two groups. "
   ]
  },
  {
   "cell_type": "markdown",
   "metadata": {},
   "source": [
    "Both datasets apear linear, however will now generate a model and test whether and how the response of photosynthetic activity to CO2\n",
    "concentration is affected by the transgene."
   ]
  },
  {
   "cell_type": "code",
   "execution_count": 12,
   "metadata": {},
   "outputs": [
    {
     "data": {
      "text/html": [
       "<div>\n",
       "<style scoped>\n",
       "    .dataframe tbody tr th:only-of-type {\n",
       "        vertical-align: middle;\n",
       "    }\n",
       "\n",
       "    .dataframe tbody tr th {\n",
       "        vertical-align: top;\n",
       "    }\n",
       "\n",
       "    .dataframe thead th {\n",
       "        text-align: right;\n",
       "    }\n",
       "</style>\n",
       "<table border=\"1\" class=\"dataframe\">\n",
       "  <thead>\n",
       "    <tr style=\"text-align: right;\">\n",
       "      <th></th>\n",
       "      <th>x</th>\n",
       "      <th>Treatment</th>\n",
       "    </tr>\n",
       "  </thead>\n",
       "  <tbody>\n",
       "    <tr>\n",
       "      <th>0</th>\n",
       "      <td>0.067692</td>\n",
       "      <td>wt</td>\n",
       "    </tr>\n",
       "    <tr>\n",
       "      <th>1</th>\n",
       "      <td>0.137241</td>\n",
       "      <td>wt</td>\n",
       "    </tr>\n",
       "    <tr>\n",
       "      <th>2</th>\n",
       "      <td>0.180736</td>\n",
       "      <td>wt</td>\n",
       "    </tr>\n",
       "    <tr>\n",
       "      <th>3</th>\n",
       "      <td>0.227764</td>\n",
       "      <td>wt</td>\n",
       "    </tr>\n",
       "    <tr>\n",
       "      <th>4</th>\n",
       "      <td>0.284256</td>\n",
       "      <td>wt</td>\n",
       "    </tr>\n",
       "    <tr>\n",
       "      <th>5</th>\n",
       "      <td>0.333190</td>\n",
       "      <td>wt</td>\n",
       "    </tr>\n",
       "    <tr>\n",
       "      <th>6</th>\n",
       "      <td>0.072611</td>\n",
       "      <td>mutant</td>\n",
       "    </tr>\n",
       "    <tr>\n",
       "      <th>7</th>\n",
       "      <td>0.190918</td>\n",
       "      <td>mutant</td>\n",
       "    </tr>\n",
       "    <tr>\n",
       "      <th>8</th>\n",
       "      <td>0.247611</td>\n",
       "      <td>mutant</td>\n",
       "    </tr>\n",
       "    <tr>\n",
       "      <th>9</th>\n",
       "      <td>0.303716</td>\n",
       "      <td>mutant</td>\n",
       "    </tr>\n",
       "    <tr>\n",
       "      <th>10</th>\n",
       "      <td>0.364031</td>\n",
       "      <td>mutant</td>\n",
       "    </tr>\n",
       "    <tr>\n",
       "      <th>11</th>\n",
       "      <td>0.411550</td>\n",
       "      <td>mutant</td>\n",
       "    </tr>\n",
       "  </tbody>\n",
       "</table>\n",
       "</div>"
      ],
      "text/plain": [
       "           x Treatment\n",
       "0   0.067692        wt\n",
       "1   0.137241        wt\n",
       "2   0.180736        wt\n",
       "3   0.227764        wt\n",
       "4   0.284256        wt\n",
       "5   0.333190        wt\n",
       "6   0.072611    mutant\n",
       "7   0.190918    mutant\n",
       "8   0.247611    mutant\n",
       "9   0.303716    mutant\n",
       "10  0.364031    mutant\n",
       "11  0.411550    mutant"
      ]
     },
     "metadata": {},
     "output_type": "display_data"
    }
   ],
   "source": [
    "# create the predictors and response variables\n",
    "aci_predictor = aci_df[[\"x\", \"Treatment\"]]\n",
    "aci_response = aci_df[[\"A\"]]\n",
    "# aci_predictor = pd.get_dummies(aci_predictor, drop_first=True) # create the dummy variables\n",
    "\n",
    "# aci_predictor = smf.add_constant(aci_predictor) # add the constant term\n",
    "\n",
    "display(aci_predictor)"
   ]
  },
  {
   "cell_type": "code",
   "execution_count": 13,
   "metadata": {},
   "outputs": [],
   "source": [
    "# fit the linear model\n",
    "aci_linear_model = smf.ols(formula=\"A ~  x*C(Treatment)\", data=aci_df).fit()"
   ]
  },
  {
   "cell_type": "code",
   "execution_count": 14,
   "metadata": {},
   "outputs": [
    {
     "name": "stderr",
     "output_type": "stream",
     "text": [
      "/Users/th/.pyenv/versions/3.12.0/lib/python3.12/site-packages/scipy/stats/_stats_py.py:1806: UserWarning: kurtosistest only valid for n>=20 ... continuing anyway, n=12\n",
      "  warnings.warn(\"kurtosistest only valid for n>=20 ... continuing \"\n"
     ]
    },
    {
     "data": {
      "text/html": [
       "<table class=\"simpletable\">\n",
       "<caption>OLS Regression Results</caption>\n",
       "<tr>\n",
       "  <th>Dep. Variable:</th>            <td>A</td>        <th>  R-squared:         </th> <td>   0.998</td>\n",
       "</tr>\n",
       "<tr>\n",
       "  <th>Model:</th>                   <td>OLS</td>       <th>  Adj. R-squared:    </th> <td>   0.997</td>\n",
       "</tr>\n",
       "<tr>\n",
       "  <th>Method:</th>             <td>Least Squares</td>  <th>  F-statistic:       </th> <td>   1386.</td>\n",
       "</tr>\n",
       "<tr>\n",
       "  <th>Date:</th>             <td>Sat, 28 Oct 2023</td> <th>  Prob (F-statistic):</th> <td>3.34e-11</td>\n",
       "</tr>\n",
       "<tr>\n",
       "  <th>Time:</th>                 <td>16:27:42</td>     <th>  Log-Likelihood:    </th> <td>  9.4037</td>\n",
       "</tr>\n",
       "<tr>\n",
       "  <th>No. Observations:</th>      <td>    12</td>      <th>  AIC:               </th> <td>  -10.81</td>\n",
       "</tr>\n",
       "<tr>\n",
       "  <th>Df Residuals:</th>          <td>     8</td>      <th>  BIC:               </th> <td>  -8.868</td>\n",
       "</tr>\n",
       "<tr>\n",
       "  <th>Df Model:</th>              <td>     3</td>      <th>                     </th>     <td> </td>   \n",
       "</tr>\n",
       "<tr>\n",
       "  <th>Covariance Type:</th>      <td>nonrobust</td>    <th>                     </th>     <td> </td>   \n",
       "</tr>\n",
       "</table>\n",
       "<table class=\"simpletable\">\n",
       "<tr>\n",
       "            <td></td>              <th>coef</th>     <th>std err</th>      <th>t</th>      <th>P>|t|</th>  <th>[0.025</th>    <th>0.975]</th>  \n",
       "</tr>\n",
       "<tr>\n",
       "  <th>Intercept</th>            <td>   -1.4251</td> <td>    0.142</td> <td>  -10.056</td> <td> 0.000</td> <td>   -1.752</td> <td>   -1.098</td>\n",
       "</tr>\n",
       "<tr>\n",
       "  <th>C(Treatment)[T.wt]</th>   <td>   -0.5167</td> <td>    0.199</td> <td>   -2.601</td> <td> 0.032</td> <td>   -0.975</td> <td>   -0.059</td>\n",
       "</tr>\n",
       "<tr>\n",
       "  <th>x</th>                    <td>    5.6451</td> <td>    0.492</td> <td>   11.466</td> <td> 0.000</td> <td>    4.510</td> <td>    6.780</td>\n",
       "</tr>\n",
       "<tr>\n",
       "  <th>x:C(Treatment)[T.wt]</th> <td>   21.6466</td> <td>    0.794</td> <td>   27.272</td> <td> 0.000</td> <td>   19.816</td> <td>   23.477</td>\n",
       "</tr>\n",
       "</table>\n",
       "<table class=\"simpletable\">\n",
       "<tr>\n",
       "  <th>Omnibus:</th>       <td> 0.184</td> <th>  Durbin-Watson:     </th> <td>   2.842</td>\n",
       "</tr>\n",
       "<tr>\n",
       "  <th>Prob(Omnibus):</th> <td> 0.912</td> <th>  Jarque-Bera (JB):  </th> <td>   0.167</td>\n",
       "</tr>\n",
       "<tr>\n",
       "  <th>Skew:</th>          <td>-0.187</td> <th>  Prob(JB):          </th> <td>   0.920</td>\n",
       "</tr>\n",
       "<tr>\n",
       "  <th>Kurtosis:</th>      <td> 2.559</td> <th>  Cond. No.          </th> <td>    26.7</td>\n",
       "</tr>\n",
       "</table><br/><br/>Notes:<br/>[1] Standard Errors assume that the covariance matrix of the errors is correctly specified."
      ],
      "text/latex": [
       "\\begin{center}\n",
       "\\begin{tabular}{lclc}\n",
       "\\toprule\n",
       "\\textbf{Dep. Variable:}       &        A         & \\textbf{  R-squared:         } &     0.998   \\\\\n",
       "\\textbf{Model:}               &       OLS        & \\textbf{  Adj. R-squared:    } &     0.997   \\\\\n",
       "\\textbf{Method:}              &  Least Squares   & \\textbf{  F-statistic:       } &     1386.   \\\\\n",
       "\\textbf{Date:}                & Sat, 28 Oct 2023 & \\textbf{  Prob (F-statistic):} &  3.34e-11   \\\\\n",
       "\\textbf{Time:}                &     16:27:42     & \\textbf{  Log-Likelihood:    } &    9.4037   \\\\\n",
       "\\textbf{No. Observations:}    &          12      & \\textbf{  AIC:               } &    -10.81   \\\\\n",
       "\\textbf{Df Residuals:}        &           8      & \\textbf{  BIC:               } &    -8.868   \\\\\n",
       "\\textbf{Df Model:}            &           3      & \\textbf{                     } &             \\\\\n",
       "\\textbf{Covariance Type:}     &    nonrobust     & \\textbf{                     } &             \\\\\n",
       "\\bottomrule\n",
       "\\end{tabular}\n",
       "\\begin{tabular}{lcccccc}\n",
       "                              & \\textbf{coef} & \\textbf{std err} & \\textbf{t} & \\textbf{P$> |$t$|$} & \\textbf{[0.025} & \\textbf{0.975]}  \\\\\n",
       "\\midrule\n",
       "\\textbf{Intercept}            &      -1.4251  &        0.142     &   -10.056  &         0.000        &       -1.752    &       -1.098     \\\\\n",
       "\\textbf{C(Treatment)[T.wt]}   &      -0.5167  &        0.199     &    -2.601  &         0.032        &       -0.975    &       -0.059     \\\\\n",
       "\\textbf{x}                    &       5.6451  &        0.492     &    11.466  &         0.000        &        4.510    &        6.780     \\\\\n",
       "\\textbf{x:C(Treatment)[T.wt]} &      21.6466  &        0.794     &    27.272  &         0.000        &       19.816    &       23.477     \\\\\n",
       "\\bottomrule\n",
       "\\end{tabular}\n",
       "\\begin{tabular}{lclc}\n",
       "\\textbf{Omnibus:}       &  0.184 & \\textbf{  Durbin-Watson:     } &    2.842  \\\\\n",
       "\\textbf{Prob(Omnibus):} &  0.912 & \\textbf{  Jarque-Bera (JB):  } &    0.167  \\\\\n",
       "\\textbf{Skew:}          & -0.187 & \\textbf{  Prob(JB):          } &    0.920  \\\\\n",
       "\\textbf{Kurtosis:}      &  2.559 & \\textbf{  Cond. No.          } &     26.7  \\\\\n",
       "\\bottomrule\n",
       "\\end{tabular}\n",
       "%\\caption{OLS Regression Results}\n",
       "\\end{center}\n",
       "\n",
       "Notes: \\newline\n",
       " [1] Standard Errors assume that the covariance matrix of the errors is correctly specified."
      ],
      "text/plain": [
       "<class 'statsmodels.iolib.summary.Summary'>\n",
       "\"\"\"\n",
       "                            OLS Regression Results                            \n",
       "==============================================================================\n",
       "Dep. Variable:                      A   R-squared:                       0.998\n",
       "Model:                            OLS   Adj. R-squared:                  0.997\n",
       "Method:                 Least Squares   F-statistic:                     1386.\n",
       "Date:                Sat, 28 Oct 2023   Prob (F-statistic):           3.34e-11\n",
       "Time:                        16:27:42   Log-Likelihood:                 9.4037\n",
       "No. Observations:                  12   AIC:                            -10.81\n",
       "Df Residuals:                       8   BIC:                            -8.868\n",
       "Df Model:                           3                                         \n",
       "Covariance Type:            nonrobust                                         \n",
       "========================================================================================\n",
       "                           coef    std err          t      P>|t|      [0.025      0.975]\n",
       "----------------------------------------------------------------------------------------\n",
       "Intercept               -1.4251      0.142    -10.056      0.000      -1.752      -1.098\n",
       "C(Treatment)[T.wt]      -0.5167      0.199     -2.601      0.032      -0.975      -0.059\n",
       "x                        5.6451      0.492     11.466      0.000       4.510       6.780\n",
       "x:C(Treatment)[T.wt]    21.6466      0.794     27.272      0.000      19.816      23.477\n",
       "==============================================================================\n",
       "Omnibus:                        0.184   Durbin-Watson:                   2.842\n",
       "Prob(Omnibus):                  0.912   Jarque-Bera (JB):                0.167\n",
       "Skew:                          -0.187   Prob(JB):                        0.920\n",
       "Kurtosis:                       2.559   Cond. No.                         26.7\n",
       "==============================================================================\n",
       "\n",
       "Notes:\n",
       "[1] Standard Errors assume that the covariance matrix of the errors is correctly specified.\n",
       "\"\"\""
      ]
     },
     "metadata": {},
     "output_type": "display_data"
    },
    {
     "name": "stdout",
     "output_type": "stream",
     "text": [
      "3.521734306130354e-09\n"
     ]
    },
    {
     "data": {
      "text/plain": [
       "<seaborn.axisgrid.FacetGrid at 0x294be0c80>"
      ]
     },
     "execution_count": 14,
     "metadata": {},
     "output_type": "execute_result"
    },
    {
     "data": {
      "image/png": "[encoded data removed]",
      "text/plain": [
       "<Figure size 601.375x500 with 1 Axes>"
      ]
     },
     "metadata": {},
     "output_type": "display_data"
    }
   ],
   "source": [
    "display(aci_linear_model.summary())\n",
    "\n",
    "# print the p values for the interaction terms\n",
    "print(aci_linear_model.pvalues[\"x:C(Treatment)[T.wt]\"])\n",
    "\n",
    "ax = sns.lmplot(data=aci_df, x=\"x\", y=\"A\", hue=\"Treatment\")\n",
    "ax.set_axis_labels(\"Transformed Internal CO2 Concentration\", \"Photosynthetic Activity ($\\\\mu mol CO_2 m^{-2}s^{-1}$)\")\n"
   ]
  },
  {
   "cell_type": "markdown",
   "metadata": {},
   "source": [
    "From this data table, the p-value for the interaction term is p>0.001 therefore we cannot drop the interaction term.\n",
    "\n",
    "From the table we can see:\n",
    "\n",
    "- The intercept (mutant without wt) is -1.42,\n",
    "- The slope is normally 5.645 for the mutant\n",
    "- The wt leads to a decrease of intercept by -0.51\n",
    "- The wt leads to an increase in slope of 21.64\n",
    "\n",
    "This means the equation for the mutant is: $A = -1.42 + 5.645x$ and the equation for the wt is: $y = -1.93 + 27.285x$."
   ]
  },
  {
   "cell_type": "markdown",
   "metadata": {},
   "source": [
    "From the above, we can see that the Rd (the negative intercept), the positive is the the rate of CO2 release from mitochondrial respiration, is $1.42 \\ \\mu\\ mol\\ CO_2\\ m^{-2}s^{-1}$ in the mutant line and $1.93 \\ \\mu\\ mol\\ CO_2\\ m^{-2}s^{-1}$ in the wild type.\n",
    "\n",
    "We can see that the maximum rate of RuBP carboxylation (Vcmax, which is the gradient) is dependent on the treatment. For the mutant, Vcmax is $21.6 \\ \\mu\\ mol\\ CO_2\\ m^{-2}s^{-1}$, and for the wild type, Vcmax is $27.2 \\ \\mu\\ mol\\ CO_2\\ m^{-2}s^{-1}$.\n",
    "\n",
    "Summarising in a statement that could be found in a paper:\n",
    "\n",
    "> The mutant line had a lower rate of CO2 release from mitochondrial respiration ($1.42 \\ \\mu\\ mol\\ CO_2\\ m^{-2}s^{-1}$) than the wild type ($1.93 \\ \\mu\\ mol\\ CO_2\\ m^{-2}s^{-1}$). The maximum rate of RuBP carboxylation (Vcmax) was higher in the wild type ($27.2 \\ \\mu\\ mol\\ CO_2\\ m^{-2}s^{-1}$) than the mutant ($21.6 \\ \\mu\\ mol\\ CO_2\\ m^{-2}s^{-1}$) (OLS regression ANOVA, $F_{df=3,8}= 1386, p<0.0001$)."
   ]
  },
  {
   "cell_type": "markdown",
   "metadata": {},
   "source": [
    "# Part II - Past Part IB examination question"
   ]
  },
  {
   "cell_type": "markdown",
   "metadata": {},
   "source": [
    "a) What is being done in the analyses?\n",
    "\n",
    "> You are testing to see if it is possible to generate a linear model that generates the predicted yield based on the treatment (virus) type the plant is exposed to. You are then showing a summary, which shows the intercept (virus cc), and the effect that the three other viruses have relative to this; it is also showing the p-value for the model, which is significant, meaning that the model is a good fit for the data. This is followed by the ANOVA which shows the F test completed to gain the p-value stated in the summary. The last line shows the effect on the p-value.\n",
    "> There is also a difference between the two analyses is that the first analysis set is done on the raw data, whereas the second analysis is done on the log transformed data.\n",
    "\n",
    "b) Which of the two analyses do you think is most appropriate, and why?\n",
    "\n",
    "> From the diagnostic plots, although  the normalQ-Q plot has a small tail on the end off the 1:1 (point 1), the fit to the normal Q-Q graph is much better on the log modified data. Also, the data is much more evenly spread on the residual vs fitted plot. Therefore, I think that the log modified data is more appropriate. This is confirmed by the lower p-value for the log modified data.\n",
    "\n",
    "c) What can be concluded from your preferred analysis?\n",
    "\n",
    "> Compared to the control (oo) treatment, all three treatments affected the plant, however the feathery mottle virus treatment (ff) affected the log(yeild) of the plant the least, followed by the chlorotic dwarf treatment (cc), with the most effect coming from the combined treatments (fc). This is tested with the ANOVA test which resulted in a p-value of approximately 0.00015, which is significant, meaning that the model is a good fit for the data ($F_{df=3,8}= 26.4$).\n",
    "\n",
    "d) Write a sentence or two – in the style of the results section of a scientific publication – showing how the analysis could be reported.\n",
    "\n",
    "> The yield of sweetpotato was significantly affected by the virus treatments ($F_{df=3,8}= 26.4, p<0.0005$). The feathery mottle virus treatment (ff) affected the log(yeild) of the plant the least, followed by the chlorotic dwarf treatment (cc), with the most effect coming from the combined treatments (fc).\n",
    "\n",
    "e) Estimate the total yield of sweetpotato in each of the three plots containing:\n",
    "   "
   ]
  },
  {
   "cell_type": "markdown",
   "metadata": {},
   "source": [
    "\n",
    "part i) sweetpotato with chlorotic dwarf virus (i.e. the treatment cc);\n",
    "\n",
    "> From the model, the fitted value was 1.38..., and using residuals vs fitted plot, at around a fitted value of 1.38, the three plots had residuals of 0.075, -0.025 and -0.05. Therefore the three plots yield (kg) can be calculated:"
   ]
  },
  {
   "cell_type": "code",
   "execution_count": 15,
   "metadata": {},
   "outputs": [
    {
     "data": {
      "text/plain": [
       "array([28.51018268, 22.64644308, 21.3796209 ])"
      ]
     },
     "execution_count": 15,
     "metadata": {},
     "output_type": "execute_result"
    }
   ],
   "source": [
    "np.power(10, 1.38+np.array([0.075, -0.025, -0.05]))\n"
   ]
  },
  {
   "cell_type": "markdown",
   "metadata": {},
   "source": [
    "\n",
    "\n",
    "part ii) doubly-infected sweetpotato plants (i.e. the treatment fc).\n",
    "\n",
    "> Using a similar method, with the fitted value for fc being 1.38-0.27 = 1.11, the three plots had residuals of 0.07, 0.01 and -0.08. Therefore the three plots yield (kg) can be calculated:"
   ]
  },
  {
   "cell_type": "code",
   "execution_count": 16,
   "metadata": {},
   "outputs": [
    {
     "data": {
      "text/plain": [
       "array([15.13561248, 12.58925412, 10.71519305])"
      ]
     },
     "execution_count": 16,
     "metadata": {},
     "output_type": "execute_result"
    }
   ],
   "source": [
    "np.power(10, 1.38-0.27+np.array([0.07, -0.01, -0.08]))"
   ]
  }
 ],
 "metadata": {
  "kernelspec": {
   "display_name": "Python 3",
   "language": "python",
   "name": "python3"
  },
  "language_info": {
   "codemirror_mode": {
    "name": "ipython",
    "version": 3
   },
   "file_extension": ".py",
   "mimetype": "text/x-python",
   "name": "python",
   "nbconvert_exporter": "python",
   "pygments_lexer": "ipython3",
   "version": "3.12.0"
  }
 },
 "nbformat": 4,
 "nbformat_minor": 2
}

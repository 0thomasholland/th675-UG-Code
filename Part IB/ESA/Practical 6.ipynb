{
 "cells": [
  {
   "cell_type": "markdown",
   "metadata": {},
   "source": [
    "# Earthquake Location and Fault Plane Solution"
   ]
  },
  {
   "cell_type": "code",
   "execution_count": 19,
   "metadata": {},
   "outputs": [],
   "source": [
    "import matplotlib.pyplot as plt\n",
    "import sys\n",
    "sys.path.insert(0, '../../')\n",
    "import NST_EarthSciences.ESA as esa"
   ]
  },
  {
   "cell_type": "code",
   "execution_count": 62,
   "metadata": {},
   "outputs": [],
   "source": [
    "# define a class with lattitude and longitude of recording station, recorded data which includes P wave arrival time in hh:mm:ss, S wave arrival time in hh:mm:ss, and calculated distance from epicenter in degrees and difference in arrival time in seconds\n",
    "def hhmmss_converter(hh, mm, ss):\n",
    "    return int(hh)*3600 + int(mm)*60 + int(ss)\n",
    "\n",
    "class seismology_station_data:\n",
    "    def __init__(self, lat, lon, P_arrival_time, S_arrival_time):\n",
    "        self.lat = lat\n",
    "        self.lon = lon\n",
    "        self.P_arrival_time = hhmmss_converter(P_arrival_time[0], P_arrival_time[1], P_arrival_time[2])\n",
    "        self.S_arrival_time = hhmmss_converter(S_arrival_time[0], S_arrival_time[1], S_arrival_time[2])\n",
    "        self.time_difference = self.S_arrival_time - self.P_arrival_time\n",
    "    \n",
    "    def distance_from_epicenter(self, distance):\n",
    "        self.distance = distance\n",
    "        return self.distance\n"
   ]
  },
  {
   "cell_type": "code",
   "execution_count": 63,
   "metadata": {},
   "outputs": [],
   "source": [
    "\n",
    "stationA = seismology_station_data(39, 116, [13,17,18], [13,21,37])\n",
    "stationB = seismology_station_data(18, 75, [13,22,38], [13,31,17])\n",
    "stationC = seismology_station_data(61, -149, [13,21,46], [13,29,10])"
   ]
  },
  {
   "cell_type": "code",
   "execution_count": 64,
   "metadata": {},
   "outputs": [
    {
     "name": "stdout",
     "output_type": "stream",
     "text": [
      "259\n",
      "519\n",
      "444\n"
     ]
    },
    {
     "data": {
      "text/plain": [
       "49"
      ]
     },
     "execution_count": 64,
     "metadata": {},
     "output_type": "execute_result"
    }
   ],
   "source": [
    "# print time differences\n",
    "\n",
    "print(stationA.time_difference)\n",
    "print(stationB.time_difference)\n",
    "print(stationC.time_difference)\n",
    "\n",
    "stationA.distance_from_epicenter(distance=24)\n",
    "stationB.distance_from_epicenter(distance=62)\n",
    "stationC.distance_from_epicenter(distance=49)"
   ]
  },
  {
   "cell_type": "code",
   "execution_count": 65,
   "metadata": {},
   "outputs": [
    {
     "data": {
      "image/png": "[encoded data removed]",
      "text/plain": [
       "<Figure size 640x480 with 1 Axes>"
      ]
     },
     "metadata": {},
     "output_type": "display_data"
    }
   ],
   "source": [
    "# plot the stations on a graph with using matplotlib\n",
    "plt.plot(stationA.lat, stationA.lon, 'ro')\n",
    "plt.plot(stationB.lat, stationB.lon, 'ro')\n",
    "plt.plot(stationC.lat, stationC.lon, 'ro')\n",
    "\n",
    "\n",
    "# plot the distances as circles on the graph, with radius of station distance, with a centre of the station location\n",
    "plt.Circle((stationA.lat, stationA.lon), stationA.distance, color='r')\n",
    "plt.Circle((stationB.lat, stationB.lon), stationB.distance)\n",
    "plt.Circle((stationC.lat, stationC.lon), stationC.distance)\n",
    "\n",
    "plt.show()"
   ]
  }
 ],
 "metadata": {
  "kernelspec": {
   "display_name": "Python 3",
   "language": "python",
   "name": "python3"
  },
  "language_info": {
   "codemirror_mode": {
    "name": "ipython",
    "version": 3
   },
   "file_extension": ".py",
   "mimetype": "text/x-python",
   "name": "python",
   "nbconvert_exporter": "python",
   "pygments_lexer": "ipython3",
   "version": "3.12.0"
  }
 },
 "nbformat": 4,
 "nbformat_minor": 2
}

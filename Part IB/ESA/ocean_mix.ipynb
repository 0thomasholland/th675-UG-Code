{
 "cells": [
  {
   "cell_type": "code",
   "execution_count": 38,
   "metadata": {},
   "outputs": [],
   "source": [
    "import numpy as np\n"
   ]
  },
  {
   "cell_type": "code",
   "execution_count": 39,
   "metadata": {},
   "outputs": [],
   "source": [
    "mix_factor = conditions(0.5, 0.5)\n",
    "\n",
    "# general class definitions and functions for the ocean model\n",
    "\n",
    "class conditions:\n",
    "    def __init__(self, T, S):\n",
    "        self.temperature = T\n",
    "        self.salinity = S\n",
    "\n",
    "class location: \n",
    "    def __init__(self, x, y, conditions):\n",
    "        self.x = x\n",
    "        self.y = y\n",
    "        self.temperature = conditions.temperature\n",
    "        self.salinity = conditions.salinity\n",
    "\n",
    "def density (T, S):\n",
    "    p = 999.84259 +6.793952*pow(10,-2)*T - 9.095290*pow(10,-3.72)*pow(T,2) +1.001685*pow(10,-4.73)*pow(T,3) -1.120083*pow(10,-6.74)*pow(T,4) +6.536332*pow(10,-9.75)*pow(T,5)\n",
    "    A = 8.24493*pow(10,-1) -4.0899*pow(10,-3)*T +7.6438*pow(10,-5)*pow(T,2) -8.2467*pow(10,-7)*pow(T,3) +5.3875*pow(10,-9)*pow(T,4)\n",
    "    B = -5.72466*pow(10,-3) +1.0227*pow(10,-4)*T -1.6546*pow(10,-6)*pow(T,2)\n",
    "    C = 4.8314*pow(10,-4)\n",
    "    return p + A*S + B*pow(S,1.5) + C*pow(S,2)\n",
    "\n",
    "def density_grid (salinity_grid, temperature_grid):\n",
    "    return np.vectorize(density)(temperature_grid, salinity_grid)"
   ]
  },
  {
   "cell_type": "markdown",
   "metadata": {},
   "source": [
    "https://www.sciencedirect.com/science/article/pii/0198014981901229 for density equation"
   ]
  },
  {
   "cell_type": "code",
   "execution_count": 40,
   "metadata": {},
   "outputs": [],
   "source": [
    "# initial parameters\n",
    "\n",
    "size = np.array([10, 10])\n",
    "\n",
    "default_conditions = conditions(10, 35)\n",
    "\n",
    "special_locations = [location(1, 1, conditions(20, 40)), location(9, 9, conditions(0, 0))]\n",
    "\n",
    "# create grid\n",
    "\n",
    "salinity = np.empty(size, dtype=location)\n",
    "\n",
    "for i in range(size[0]):\n",
    "    for j in range(size[1]):\n",
    "        salinity[i, j] = default_conditions.salinity\n",
    "\n",
    "for loc in special_locations:\n",
    "    salinity[loc.x, loc.y] = loc.salinity\n",
    "\n",
    "temperature = np.empty(size, dtype=location)\n",
    "\n",
    "for i in range(size[0]):\n",
    "    for j in range(size[1]):\n",
    "        temperature[i, j] = default_conditions.temperature\n",
    "\n",
    "for loc in special_locations:\n",
    "    temperature[loc.x, loc.y] = loc.temperature\n",
    "\n",
    "# print(salinity)\n",
    "# print(temperature)\n",
    "# print(density_grid(salinity, temperature))"
   ]
  },
  {
   "cell_type": "code",
   "execution_count": 41,
   "metadata": {},
   "outputs": [
    {
     "ename": "IndexError",
     "evalue": "index 10 is out of bounds for axis 1 with size 10",
     "output_type": "error",
     "traceback": [
      "\u001b[0;31m---------------------------------------------------------------------------\u001b[0m",
      "\u001b[0;31mIndexError\u001b[0m                                Traceback (most recent call last)",
      "Cell \u001b[0;32mIn[41], line 22\u001b[0m\n\u001b[1;32m     19\u001b[0m             new_grid[i, j] \u001b[38;5;241m=\u001b[39m mix_point(location(i, j, default_conditions), grid, \u001b[38;5;28mtype\u001b[39m)\n\u001b[1;32m     20\u001b[0m     \u001b[38;5;28;01mreturn\u001b[39;00m new_grid\n\u001b[0;32m---> 22\u001b[0m \u001b[38;5;28mprint\u001b[39m(\u001b[43mmix_grid\u001b[49m\u001b[43m(\u001b[49m\u001b[43msalinity\u001b[49m\u001b[43m,\u001b[49m\u001b[43m \u001b[49m\u001b[38;5;124;43m'\u001b[39;49m\u001b[38;5;124;43msalinity\u001b[39;49m\u001b[38;5;124;43m'\u001b[39;49m\u001b[43m)\u001b[49m)\n",
      "Cell \u001b[0;32mIn[41], line 19\u001b[0m, in \u001b[0;36mmix_grid\u001b[0;34m(grid, type)\u001b[0m\n\u001b[1;32m     17\u001b[0m \u001b[38;5;28;01mfor\u001b[39;00m i \u001b[38;5;129;01min\u001b[39;00m \u001b[38;5;28mrange\u001b[39m(size[\u001b[38;5;241m0\u001b[39m]):\n\u001b[1;32m     18\u001b[0m     \u001b[38;5;28;01mfor\u001b[39;00m j \u001b[38;5;129;01min\u001b[39;00m \u001b[38;5;28mrange\u001b[39m(size[\u001b[38;5;241m1\u001b[39m]):\n\u001b[0;32m---> 19\u001b[0m         new_grid[i, j] \u001b[38;5;241m=\u001b[39m \u001b[43mmix_point\u001b[49m\u001b[43m(\u001b[49m\u001b[43mlocation\u001b[49m\u001b[43m(\u001b[49m\u001b[43mi\u001b[49m\u001b[43m,\u001b[49m\u001b[43m \u001b[49m\u001b[43mj\u001b[49m\u001b[43m,\u001b[49m\u001b[43m \u001b[49m\u001b[43mdefault_conditions\u001b[49m\u001b[43m)\u001b[49m\u001b[43m,\u001b[49m\u001b[43m \u001b[49m\u001b[43mgrid\u001b[49m\u001b[43m,\u001b[49m\u001b[43m \u001b[49m\u001b[38;5;28;43mtype\u001b[39;49m\u001b[43m)\u001b[49m\n\u001b[1;32m     20\u001b[0m \u001b[38;5;28;01mreturn\u001b[39;00m new_grid\n",
      "Cell \u001b[0;32mIn[41], line 12\u001b[0m, in \u001b[0;36mmix_point\u001b[0;34m(loc, grid, type)\u001b[0m\n\u001b[1;32m      8\u001b[0m j \u001b[38;5;241m=\u001b[39m loc\u001b[38;5;241m.\u001b[39my\n\u001b[1;32m     10\u001b[0m mf \u001b[38;5;241m=\u001b[39m mix_factor\u001b[38;5;241m.\u001b[39mtemperature \u001b[38;5;28;01mif\u001b[39;00m \u001b[38;5;28mtype\u001b[39m \u001b[38;5;241m==\u001b[39m \u001b[38;5;124m'\u001b[39m\u001b[38;5;124mtemperature\u001b[39m\u001b[38;5;124m'\u001b[39m \u001b[38;5;28;01melse\u001b[39;00m mix_factor\u001b[38;5;241m.\u001b[39msalinity\n\u001b[0;32m---> 12\u001b[0m \u001b[38;5;28;01mreturn\u001b[39;00m (mf \u001b[38;5;241m*\u001b[39m ((grid[i\u001b[38;5;241m+\u001b[39m\u001b[38;5;241m1\u001b[39m, j]\u001b[38;5;241m+\u001b[39m grid[i\u001b[38;5;241m-\u001b[39m\u001b[38;5;241m1\u001b[39m, j] \u001b[38;5;241m+\u001b[39m \u001b[43mgrid\u001b[49m\u001b[43m[\u001b[49m\u001b[43mi\u001b[49m\u001b[43m,\u001b[49m\u001b[43m \u001b[49m\u001b[43mj\u001b[49m\u001b[38;5;241;43m+\u001b[39;49m\u001b[38;5;241;43m1\u001b[39;49m\u001b[43m]\u001b[49m \u001b[38;5;241m+\u001b[39m grid[i, j\u001b[38;5;241m-\u001b[39m\u001b[38;5;241m1\u001b[39m]) \u001b[38;5;241m-\u001b[39m \u001b[38;5;241m4\u001b[39m\u001b[38;5;241m*\u001b[39mgrid[i, j]))\u001b[38;5;241m/\u001b[39m\u001b[38;5;241m2\u001b[39m\n",
      "\u001b[0;31mIndexError\u001b[0m: index 10 is out of bounds for axis 1 with size 10"
     ]
    }
   ],
   "source": [
    "# mix functions\n",
    "\n",
    "def mix_point(loc, grid, type):\n",
    "    # mix the point with its neighbors with factor 1 * mix_factor and corner points with factor sqrt(2) w/ mix_factor\n",
    "    # type is either 'salinity' or 'temperature' for the type of mixing\n",
    "\n",
    "    i = loc.x\n",
    "    j = loc.y\n",
    "    # add an extra row and column to the grid to avoid index errors\n",
    "    \n",
    "    mf = mix_factor.temperature if type == 'temperature' else mix_factor.salinity\n",
    "    return (mf * ((grid[i+1, j]+ grid[i-1, j] + grid[i, j+1] + grid[i, j-1]) - 4*grid[i, j]))/2\n",
    "\n",
    "def mix_grid(grid, type):\n",
    "    # mix the entire grid\n",
    "    new_grid = np.empty(size, dtype=location)\n",
    "    for i in range(size[0]):\n",
    "        for j in range(size[1]):\n",
    "            new_grid[i, j] = mix_point(location(i, j, default_conditions), grid, type)\n",
    "    return new_grid\n",
    "\n",
    "print(mix_grid(salinity, 'salinity'))\n"
   ]
  }
 ],
 "metadata": {
  "kernelspec": {
   "display_name": ".venv",
   "language": "python",
   "name": "python3"
  },
  "language_info": {
   "codemirror_mode": {
    "name": "ipython",
    "version": 3
   },
   "file_extension": ".py",
   "mimetype": "text/x-python",
   "name": "python",
   "nbconvert_exporter": "python",
   "pygments_lexer": "ipython3",
   "version": "3.12.1"
  }
 },
 "nbformat": 4,
 "nbformat_minor": 2
}

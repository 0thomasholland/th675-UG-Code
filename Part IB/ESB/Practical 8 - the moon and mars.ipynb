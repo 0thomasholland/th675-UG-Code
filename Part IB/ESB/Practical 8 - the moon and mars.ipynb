{
 "cells": [
  {
   "cell_type": "code",
   "execution_count": 7,
   "metadata": {},
   "outputs": [],
   "source": [
    "import numpy as np\n",
    "import matplotlib.pyplot as plt"
   ]
  },
  {
   "cell_type": "code",
   "execution_count": 8,
   "metadata": {},
   "outputs": [],
   "source": [
    "\n",
    "ansgarius = np.genfromtxt('datasets/ansgarius.csv', delimiter=',', skip_header=1, names=[\"longitude\",\"latitude\",\"Diameter\",\"Color\",\"Note\",\"User\"])\n",
    "\n",
    "copernicus = np.genfromtxt('datasets/copernicus.csv', delimiter=',', skip_header=1, names=[\"longitude\",\"latitude\",\"Diameter\",\"Color\",\"Note\",\"User\"])"
   ]
  },
  {
   "cell_type": "code",
   "execution_count": 12,
   "metadata": {},
   "outputs": [
    {
     "ename": "SyntaxError",
     "evalue": "invalid syntax (250797638.py, line 5)",
     "output_type": "error",
     "traceback": [
      "\u001b[0;36m  Cell \u001b[0;32mIn[12], line 5\u001b[0;36m\u001b[0m\n\u001b[0;31m    ansgarius_large_percentage := len(ansgarius_large) / len(ansgarius) * 100\u001b[0m\n\u001b[0m                               ^\u001b[0m\n\u001b[0;31mSyntaxError\u001b[0m\u001b[0;31m:\u001b[0m invalid syntax\n"
     ]
    }
   ],
   "source": [
    "# percentage that are larger than 1km in diameter\n",
    "ansgarius_large = ansgarius[ansgarius[\"Diameter\"] > 1]\n",
    "copernicus_large = copernicus[copernicus[\"Diameter\"] > 1]\n",
    "\n",
    "ansgarius_large_percentage := len(ansgarius_large) / len(ansgarius) * 100\n",
    "copernicus_large_percentage := len(copernicus_large) / len(copernicus) * 100"
   ]
  }
 ],
 "metadata": {
  "kernelspec": {
   "display_name": "Python 3",
   "language": "python",
   "name": "python3"
  },
  "language_info": {
   "codemirror_mode": {
    "name": "ipython",
    "version": 3
   },
   "file_extension": ".py",
   "mimetype": "text/x-python",
   "name": "python",
   "nbconvert_exporter": "python",
   "pygments_lexer": "ipython3",
   "version": "3.12.0"
  }
 },
 "nbformat": 4,
 "nbformat_minor": 2
}

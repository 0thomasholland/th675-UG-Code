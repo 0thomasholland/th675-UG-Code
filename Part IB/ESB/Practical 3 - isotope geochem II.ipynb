{
 "cells": [
  {
   "cell_type": "code",
   "execution_count": 8,
   "metadata": {},
   "outputs": [],
   "source": [
    "import numpy as np\n",
    "from math import log"
   ]
  },
  {
   "cell_type": "markdown",
   "metadata": {},
   "source": [
    "# Practical 3 - Isotope Dating Geochemistry II\n",
    "\n",
    "## Part 1 Dating core-mantle segregation with the hafnium-tungsten system"
   ]
  },
  {
   "cell_type": "code",
   "execution_count": 14,
   "metadata": {},
   "outputs": [
    {
     "name": "stdout",
     "output_type": "stream",
     "text": [
      "13.204645953585114\n"
     ]
    }
   ],
   "source": [
    "Hf_W_halflife = 0.077 * pow(10, -6)\n",
    "\n",
    "\n",
    "chon_P = np.array([0.00658, 0.1157, 0.4087, 1.14, 1.82, 1.58, 1.18])\n",
    "chon_D = np.array([0.864716, 0.864737, 0.8648, 0.864945, 0.865049, 0.864996, 0.864974])\n",
    "\n",
    "eud_P = np.array([3.47, 31.9, 23.7, 0.124])\n",
    "eud_D = np.array([0.864936, 0.866879, 0.866205, 0.8647])\n",
    "\n",
    "chon_grad, chon_intercept = np.polyfit(chon_P, chon_D, 1)\n",
    "eud_grad, eud_intercept = np.polyfit(eud_P, eud_D, 1)\n",
    "\n",
    "chon_age = log(chon_grad)/Hf_W_halflife/pow(10,6)\n",
    "eud_age = log(eud_grad)/Hf_W_halflife/pow(10,6)\n",
    "print(chon_age-eud_age)"
   ]
  },
  {
   "cell_type": "code",
   "execution_count": 15,
   "metadata": {},
   "outputs": [
    {
     "data": {
      "text/plain": [
       "13.634053564917894"
      ]
     },
     "execution_count": 15,
     "metadata": {},
     "output_type": "execute_result"
    }
   ],
   "source": [
    "log(2.0 * pow(10,-4) / (0.7 * pow(10,-4)))/(0.077 * pow(10,-6))/pow(10,6)"
   ]
  },
  {
   "cell_type": "markdown",
   "metadata": {},
   "source": [
    "## Part 2"
   ]
  },
  {
   "cell_type": "code",
   "execution_count": 16,
   "metadata": {},
   "outputs": [],
   "source": [
    "_87Rb_86Sr_solarnebula = 0.92\n",
    "_Rb_Sb = 0.32\n",
    "\n",
    "_87Rb_86Sr_to_Rb_Sr = 1/2.89"
   ]
  },
  {
   "cell_type": "code",
   "execution_count": 24,
   "metadata": {},
   "outputs": [
    {
     "name": "stdout",
     "output_type": "stream",
     "text": [
      "[10.1 10.1  7.6  7.6]\n"
     ]
    }
   ],
   "source": [
    "RbSr_PB = np.array([0.0001, 0.0001, 0.0003, 0.0003])\n",
    "\n",
    "Rb87Sr86_PB = np.array([0.000289, 0.000289, 0.000867, 0.000867])\n",
    "\n",
    "Rb87Sr86 = np.array([0.69897, 0.69896, 0.69901, 0.69903])\n",
    "\n",
    "PbPb_age = np.array([4557.5, 4557.5, 4560, 4560])\n",
    "PbPb_age_relative = 4567.6 -PbPb_age \n",
    "print(PbPb_age_relative)"
   ]
  },
  {
   "cell_type": "code",
   "execution_count": 36,
   "metadata": {},
   "outputs": [
    {
     "name": "stdout",
     "output_type": "stream",
     "text": [
      "[-37783 -33735 -14366 -16387]\n"
     ]
    }
   ],
   "source": [
    "time_lambda_Rb = 1.42 * pow(10, -11)\n",
    "\n",
    "age_using_Rb_Sr = np.array([0, 0, 0, 0])\n",
    "\n",
    "for i in range(4):\n",
    "    age_using_Rb_Sr[i] = log((0.69885-Rb87Sr86[i])/Rb87Sr86_PB[i]+1)/time_lambda_Rb/pow(10,6)\n",
    "print(age_using_Rb_Sr)\n",
    "\n",
    "age_using_nebula = np.array([0, 0, 0, 0])\n",
    "\n",
    "for i in range(4):\n",
    "    age_using_nebula[i] = log((0.69885-Rb87Sr86[i])/Rb87Sr86_PB[i])/time_lambda_Rb/pow(10,6)"
   ]
  }
 ],
 "metadata": {
  "kernelspec": {
   "display_name": "Python 3",
   "language": "python",
   "name": "python3"
  },
  "language_info": {
   "codemirror_mode": {
    "name": "ipython",
    "version": 3
   },
   "file_extension": ".py",
   "mimetype": "text/x-python",
   "name": "python",
   "nbconvert_exporter": "python",
   "pygments_lexer": "ipython3",
   "version": "3.12.0"
  }
 },
 "nbformat": 4,
 "nbformat_minor": 2
}

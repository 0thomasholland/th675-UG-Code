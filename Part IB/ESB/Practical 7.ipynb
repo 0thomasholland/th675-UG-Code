{
 "cells": [
  {
   "cell_type": "code",
   "execution_count": 1,
   "metadata": {},
   "outputs": [],
   "source": [
    "from math import log as ln"
   ]
  },
  {
   "cell_type": "code",
   "execution_count": 2,
   "metadata": {},
   "outputs": [],
   "source": [
    "NdSm_intercept = 0.5079\n",
    "HfLu_intercept = 0.2803\n",
    "NdSm_slope = 0.0243\n",
    "HfLu_slope = 0.0709"
   ]
  },
  {
   "cell_type": "code",
   "execution_count": 3,
   "metadata": {},
   "outputs": [],
   "source": [
    "lambda_Sm = 0.00654 * pow(10, -9)\n",
    "lambda_Lu = 0.01867 * pow(10, -9)"
   ]
  },
  {
   "cell_type": "code",
   "execution_count": 5,
   "metadata": {},
   "outputs": [
    {
     "name": "stdout",
     "output_type": "stream",
     "text": [
      "NdSm age:  3671.1701009712315 Ma\n",
      "HfLu age:  3668.956423390051 Ma\n"
     ]
    }
   ],
   "source": [
    "age_Sm = ln(NdSm_slope+1)/lambda_Sm\n",
    "print(\"NdSm age: \", age_Sm/1e6, \"Ma\")\n",
    "\n",
    "age_Lu = ln(HfLu_slope+1)/lambda_Lu\n",
    "print(\"HfLu age: \", age_Lu/1e6, \"Ma\")"
   ]
  },
  {
   "cell_type": "code",
   "execution_count": null,
   "metadata": {},
   "outputs": [],
   "source": []
  }
 ],
 "metadata": {
  "kernelspec": {
   "display_name": "Python 3",
   "language": "python",
   "name": "python3"
  },
  "language_info": {
   "codemirror_mode": {
    "name": "ipython",
    "version": 3
   },
   "file_extension": ".py",
   "mimetype": "text/x-python",
   "name": "python",
   "nbconvert_exporter": "python",
   "pygments_lexer": "ipython3",
   "version": "3.12.0"
  }
 },
 "nbformat": 4,
 "nbformat_minor": 2
}
